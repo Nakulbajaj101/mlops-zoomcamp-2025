{
 "cells": [
  {
   "cell_type": "code",
   "execution_count": 20,
   "id": "ba05dc94-42af-490a-805e-6f00721c9c31",
   "metadata": {},
   "outputs": [],
   "source": [
    "import pandas as pd\n",
    "import seaborn as sns\n",
    "import matplotlib.pyplot as plt\n",
    "from sklearn.feature_extraction import DictVectorizer\n",
    "from sklearn.ensemble import RandomForestRegressor as RFR\n",
    "from sklearn.linear_model import LinearRegression"
   ]
  },
  {
   "cell_type": "code",
   "execution_count": 2,
   "id": "b6143eb7",
   "metadata": {},
   "outputs": [],
   "source": [
    "data = pd.read_parquet(path=\"../../../workspaces/data/green_tripdata_2021-01.parquet\")"
   ]
  },
  {
   "cell_type": "code",
   "execution_count": 3,
   "id": "9b7e0e3c-315a-4bf0-bff2-eea9cfe703da",
   "metadata": {},
   "outputs": [
    {
     "data": {
      "text/html": [
       "<div>\n",
       "<style scoped>\n",
       "    .dataframe tbody tr th:only-of-type {\n",
       "        vertical-align: middle;\n",
       "    }\n",
       "\n",
       "    .dataframe tbody tr th {\n",
       "        vertical-align: top;\n",
       "    }\n",
       "\n",
       "    .dataframe thead th {\n",
       "        text-align: right;\n",
       "    }\n",
       "</style>\n",
       "<table border=\"1\" class=\"dataframe\">\n",
       "  <thead>\n",
       "    <tr style=\"text-align: right;\">\n",
       "      <th></th>\n",
       "      <th>VendorID</th>\n",
       "      <th>lpep_pickup_datetime</th>\n",
       "      <th>lpep_dropoff_datetime</th>\n",
       "      <th>store_and_fwd_flag</th>\n",
       "      <th>RatecodeID</th>\n",
       "      <th>PULocationID</th>\n",
       "      <th>DOLocationID</th>\n",
       "      <th>passenger_count</th>\n",
       "      <th>trip_distance</th>\n",
       "      <th>fare_amount</th>\n",
       "      <th>extra</th>\n",
       "      <th>mta_tax</th>\n",
       "      <th>tip_amount</th>\n",
       "      <th>tolls_amount</th>\n",
       "      <th>ehail_fee</th>\n",
       "      <th>improvement_surcharge</th>\n",
       "      <th>total_amount</th>\n",
       "      <th>payment_type</th>\n",
       "      <th>trip_type</th>\n",
       "      <th>congestion_surcharge</th>\n",
       "    </tr>\n",
       "  </thead>\n",
       "  <tbody>\n",
       "    <tr>\n",
       "      <th>0</th>\n",
       "      <td>2</td>\n",
       "      <td>2021-01-01 00:15:56</td>\n",
       "      <td>2021-01-01 00:19:52</td>\n",
       "      <td>N</td>\n",
       "      <td>1.0</td>\n",
       "      <td>43</td>\n",
       "      <td>151</td>\n",
       "      <td>1.0</td>\n",
       "      <td>1.01</td>\n",
       "      <td>5.5</td>\n",
       "      <td>0.5</td>\n",
       "      <td>0.5</td>\n",
       "      <td>0.00</td>\n",
       "      <td>0.0</td>\n",
       "      <td>None</td>\n",
       "      <td>0.3</td>\n",
       "      <td>6.80</td>\n",
       "      <td>2.0</td>\n",
       "      <td>1.0</td>\n",
       "      <td>0.00</td>\n",
       "    </tr>\n",
       "    <tr>\n",
       "      <th>1</th>\n",
       "      <td>2</td>\n",
       "      <td>2021-01-01 00:25:59</td>\n",
       "      <td>2021-01-01 00:34:44</td>\n",
       "      <td>N</td>\n",
       "      <td>1.0</td>\n",
       "      <td>166</td>\n",
       "      <td>239</td>\n",
       "      <td>1.0</td>\n",
       "      <td>2.53</td>\n",
       "      <td>10.0</td>\n",
       "      <td>0.5</td>\n",
       "      <td>0.5</td>\n",
       "      <td>2.81</td>\n",
       "      <td>0.0</td>\n",
       "      <td>None</td>\n",
       "      <td>0.3</td>\n",
       "      <td>16.86</td>\n",
       "      <td>1.0</td>\n",
       "      <td>1.0</td>\n",
       "      <td>2.75</td>\n",
       "    </tr>\n",
       "    <tr>\n",
       "      <th>2</th>\n",
       "      <td>2</td>\n",
       "      <td>2021-01-01 00:45:57</td>\n",
       "      <td>2021-01-01 00:51:55</td>\n",
       "      <td>N</td>\n",
       "      <td>1.0</td>\n",
       "      <td>41</td>\n",
       "      <td>42</td>\n",
       "      <td>1.0</td>\n",
       "      <td>1.12</td>\n",
       "      <td>6.0</td>\n",
       "      <td>0.5</td>\n",
       "      <td>0.5</td>\n",
       "      <td>1.00</td>\n",
       "      <td>0.0</td>\n",
       "      <td>None</td>\n",
       "      <td>0.3</td>\n",
       "      <td>8.30</td>\n",
       "      <td>1.0</td>\n",
       "      <td>1.0</td>\n",
       "      <td>0.00</td>\n",
       "    </tr>\n",
       "    <tr>\n",
       "      <th>3</th>\n",
       "      <td>2</td>\n",
       "      <td>2020-12-31 23:57:51</td>\n",
       "      <td>2021-01-01 00:04:56</td>\n",
       "      <td>N</td>\n",
       "      <td>1.0</td>\n",
       "      <td>168</td>\n",
       "      <td>75</td>\n",
       "      <td>1.0</td>\n",
       "      <td>1.99</td>\n",
       "      <td>8.0</td>\n",
       "      <td>0.5</td>\n",
       "      <td>0.5</td>\n",
       "      <td>0.00</td>\n",
       "      <td>0.0</td>\n",
       "      <td>None</td>\n",
       "      <td>0.3</td>\n",
       "      <td>9.30</td>\n",
       "      <td>2.0</td>\n",
       "      <td>1.0</td>\n",
       "      <td>0.00</td>\n",
       "    </tr>\n",
       "    <tr>\n",
       "      <th>4</th>\n",
       "      <td>2</td>\n",
       "      <td>2021-01-01 00:16:36</td>\n",
       "      <td>2021-01-01 00:16:40</td>\n",
       "      <td>N</td>\n",
       "      <td>2.0</td>\n",
       "      <td>265</td>\n",
       "      <td>265</td>\n",
       "      <td>3.0</td>\n",
       "      <td>0.00</td>\n",
       "      <td>-52.0</td>\n",
       "      <td>0.0</td>\n",
       "      <td>-0.5</td>\n",
       "      <td>0.00</td>\n",
       "      <td>0.0</td>\n",
       "      <td>None</td>\n",
       "      <td>-0.3</td>\n",
       "      <td>-52.80</td>\n",
       "      <td>3.0</td>\n",
       "      <td>1.0</td>\n",
       "      <td>0.00</td>\n",
       "    </tr>\n",
       "  </tbody>\n",
       "</table>\n",
       "</div>"
      ],
      "text/plain": [
       "   VendorID lpep_pickup_datetime lpep_dropoff_datetime store_and_fwd_flag  \\\n",
       "0         2  2021-01-01 00:15:56   2021-01-01 00:19:52                  N   \n",
       "1         2  2021-01-01 00:25:59   2021-01-01 00:34:44                  N   \n",
       "2         2  2021-01-01 00:45:57   2021-01-01 00:51:55                  N   \n",
       "3         2  2020-12-31 23:57:51   2021-01-01 00:04:56                  N   \n",
       "4         2  2021-01-01 00:16:36   2021-01-01 00:16:40                  N   \n",
       "\n",
       "   RatecodeID  PULocationID  DOLocationID  passenger_count  trip_distance  \\\n",
       "0         1.0            43           151              1.0           1.01   \n",
       "1         1.0           166           239              1.0           2.53   \n",
       "2         1.0            41            42              1.0           1.12   \n",
       "3         1.0           168            75              1.0           1.99   \n",
       "4         2.0           265           265              3.0           0.00   \n",
       "\n",
       "   fare_amount  extra  mta_tax  tip_amount  tolls_amount ehail_fee  \\\n",
       "0          5.5    0.5      0.5        0.00           0.0      None   \n",
       "1         10.0    0.5      0.5        2.81           0.0      None   \n",
       "2          6.0    0.5      0.5        1.00           0.0      None   \n",
       "3          8.0    0.5      0.5        0.00           0.0      None   \n",
       "4        -52.0    0.0     -0.5        0.00           0.0      None   \n",
       "\n",
       "   improvement_surcharge  total_amount  payment_type  trip_type  \\\n",
       "0                    0.3          6.80           2.0        1.0   \n",
       "1                    0.3         16.86           1.0        1.0   \n",
       "2                    0.3          8.30           1.0        1.0   \n",
       "3                    0.3          9.30           2.0        1.0   \n",
       "4                   -0.3        -52.80           3.0        1.0   \n",
       "\n",
       "   congestion_surcharge  \n",
       "0                  0.00  \n",
       "1                  2.75  \n",
       "2                  0.00  \n",
       "3                  0.00  \n",
       "4                  0.00  "
      ]
     },
     "execution_count": 3,
     "metadata": {},
     "output_type": "execute_result"
    }
   ],
   "source": [
    "data.head()"
   ]
  },
  {
   "cell_type": "code",
   "execution_count": 4,
   "id": "382f5252",
   "metadata": {},
   "outputs": [],
   "source": [
    "data.lpep_dropoff_datetime = pd.to_datetime(data.lpep_dropoff_datetime)\n",
    "data.lpep_pickup_datetime = pd.to_datetime(data.lpep_pickup_datetime)\n",
    "data[\"duration\"] = (data.lpep_dropoff_datetime - data.lpep_pickup_datetime)\n",
    "data.duration = data.duration.apply(lambda d: d.seconds / 60)"
   ]
  },
  {
   "cell_type": "code",
   "execution_count": 5,
   "id": "bcc4d67b",
   "metadata": {},
   "outputs": [
    {
     "data": {
      "text/plain": [
       "count    76518.000000\n",
       "mean        19.927896\n",
       "std         59.338594\n",
       "min          0.000000\n",
       "50%         13.883333\n",
       "75%         23.000000\n",
       "99%         67.158167\n",
       "max       1439.600000\n",
       "Name: duration, dtype: float64"
      ]
     },
     "execution_count": 5,
     "metadata": {},
     "output_type": "execute_result"
    }
   ],
   "source": [
    "data.duration.describe(percentiles=[0.5, 0.75, 0.99])"
   ]
  },
  {
   "cell_type": "code",
   "execution_count": 6,
   "id": "4a8015fb",
   "metadata": {},
   "outputs": [
    {
     "data": {
      "text/plain": [
       "0.9714707650487467"
      ]
     },
     "execution_count": 6,
     "metadata": {},
     "output_type": "execute_result"
    }
   ],
   "source": [
    "data_subset = data[(data.duration >= 1) & (data.duration <= 68)]\n",
    "data_subset.shape[0]/data.shape[0]"
   ]
  },
  {
   "cell_type": "code",
   "execution_count": 7,
   "id": "825ecae0-5891-4b74-80d6-135ffa19a289",
   "metadata": {},
   "outputs": [
    {
     "data": {
      "text/plain": [
       "<matplotlib.legend.Legend at 0x748266bda570>"
      ]
     },
     "execution_count": 7,
     "metadata": {},
     "output_type": "execute_result"
    },
    {
     "data": {
      "image/png": "[encoded data removed]",
      "text/plain": [
       "<Figure size 500x500 with 1 Axes>"
      ]
     },
     "metadata": {},
     "output_type": "display_data"
    }
   ],
   "source": [
    "sns.displot(data_subset.duration, label=\"actual\", bins=200)\n",
    "plt.legend()"
   ]
  },
  {
   "cell_type": "code",
   "execution_count": 8,
   "id": "dc0a14a8-2767-45d9-ba3a-c20369273ee6",
   "metadata": {},
   "outputs": [
    {
     "name": "stderr",
     "output_type": "stream",
     "text": [
      "/tmp/ipykernel_38793/3865844338.py:1: SettingWithCopyWarning: \n",
      "A value is trying to be set on a copy of a slice from a DataFrame.\n",
      "Try using .loc[row_indexer,col_indexer] = value instead\n",
      "\n",
      "See the caveats in the documentation: https://pandas.pydata.org/pandas-docs/stable/user_guide/indexing.html#returning-a-view-versus-a-copy\n",
      "  data_subset[\"is_toll_taken\"] = (data_subset[\"tolls_amount\"] > 0).astype(int)\n",
      "/tmp/ipykernel_38793/3865844338.py:2: SettingWithCopyWarning: \n",
      "A value is trying to be set on a copy of a slice from a DataFrame.\n",
      "Try using .loc[row_indexer,col_indexer] = value instead\n",
      "\n",
      "See the caveats in the documentation: https://pandas.pydata.org/pandas-docs/stable/user_guide/indexing.html#returning-a-view-versus-a-copy\n",
      "  data_subset[\"is_trip_type_missing\"] = (data_subset[\"trip_type\"].isna()).astype(int)\n",
      "/tmp/ipykernel_38793/3865844338.py:3: SettingWithCopyWarning: \n",
      "A value is trying to be set on a copy of a slice from a DataFrame.\n",
      "Try using .loc[row_indexer,col_indexer] = value instead\n",
      "\n",
      "See the caveats in the documentation: https://pandas.pydata.org/pandas-docs/stable/user_guide/indexing.html#returning-a-view-versus-a-copy\n",
      "  data_subset[\"is_congested\"] = (data_subset[\"congestion_surcharge\"] > 0).astype(int)\n",
      "/tmp/ipykernel_38793/3865844338.py:4: SettingWithCopyWarning: \n",
      "A value is trying to be set on a copy of a slice from a DataFrame.\n",
      "Try using .loc[row_indexer,col_indexer] = value instead\n",
      "\n",
      "See the caveats in the documentation: https://pandas.pydata.org/pandas-docs/stable/user_guide/indexing.html#returning-a-view-versus-a-copy\n",
      "  data_subset[\"is_congestion_missing\"] = (data_subset[\"congestion_surcharge\"].isna()).astype(int)\n",
      "/tmp/ipykernel_38793/3865844338.py:5: SettingWithCopyWarning: \n",
      "A value is trying to be set on a copy of a slice from a DataFrame.\n",
      "Try using .loc[row_indexer,col_indexer] = value instead\n",
      "\n",
      "See the caveats in the documentation: https://pandas.pydata.org/pandas-docs/stable/user_guide/indexing.html#returning-a-view-versus-a-copy\n",
      "  data_subset[\"is_payment_type_missing\"] = (data_subset[\"payment_type\"].isna()).astype(int)\n",
      "/tmp/ipykernel_38793/3865844338.py:6: SettingWithCopyWarning: \n",
      "A value is trying to be set on a copy of a slice from a DataFrame.\n",
      "Try using .loc[row_indexer,col_indexer] = value instead\n",
      "\n",
      "See the caveats in the documentation: https://pandas.pydata.org/pandas-docs/stable/user_guide/indexing.html#returning-a-view-versus-a-copy\n",
      "  data_subset[\"congestion_surcharge\"] = data_subset[\"congestion_surcharge\"].fillna(0)\n"
     ]
    }
   ],
   "source": [
    "data_subset[\"is_toll_taken\"] = (data_subset[\"tolls_amount\"] > 0).astype(int)\n",
    "data_subset[\"is_trip_type_missing\"] = (data_subset[\"trip_type\"].isna()).astype(int)\n",
    "data_subset[\"is_congested\"] = (data_subset[\"congestion_surcharge\"] > 0).astype(int)\n",
    "data_subset[\"is_congestion_missing\"] = (data_subset[\"congestion_surcharge\"].isna()).astype(int)\n",
    "data_subset[\"is_payment_type_missing\"] = (data_subset[\"payment_type\"].isna()).astype(int)\n",
    "data_subset[\"congestion_surcharge\"] = data_subset[\"congestion_surcharge\"].fillna(0)"
   ]
  },
  {
   "cell_type": "code",
   "execution_count": 8,
   "id": "d8de94ae-1ffc-4210-a5cf-7e5ee836fe43",
   "metadata": {},
   "outputs": [],
   "source": [
    "categorical_columns = [\"PULocationID\", \"DOLocationID\"]"
   ]
  },
  {
   "cell_type": "code",
   "execution_count": 9,
   "id": "9fdd8950-9e86-435f-b85f-98172ba09af5",
   "metadata": {},
   "outputs": [],
   "source": [
    "numerical_columns = [\"trip_distance\",\n",
    "                     \"tolls_amount\",\n",
    "                     \"congestion_surcharge\",\n",
    "                     \"is_toll_taken\",\n",
    "                     \"is_congested\",\n",
    "                     \"is_trip_type_missing\",\n",
    "                     \"is_payment_type_missing\",\n",
    "                     \"is_congestion_missing\"]"
   ]
  },
  {
   "cell_type": "code",
   "execution_count": 10,
   "id": "a864fd84-6df4-4eec-83d8-099edc2237ed",
   "metadata": {},
   "outputs": [],
   "source": [
    "target_column = \"duration\""
   ]
  },
  {
   "cell_type": "code",
   "execution_count": 11,
   "id": "f4b6e2be-c61e-4d36-89ee-dbf9eed78921",
   "metadata": {},
   "outputs": [
    {
     "name": "stderr",
     "output_type": "stream",
     "text": [
      "/tmp/ipykernel_9374/3079424306.py:1: SettingWithCopyWarning: \n",
      "A value is trying to be set on a copy of a slice from a DataFrame.\n",
      "Try using .loc[row_indexer,col_indexer] = value instead\n",
      "\n",
      "See the caveats in the documentation: https://pandas.pydata.org/pandas-docs/stable/user_guide/indexing.html#returning-a-view-versus-a-copy\n",
      "  data_subset[categorical_columns] = data_subset[categorical_columns].astype(str)\n"
     ]
    }
   ],
   "source": [
    "data_subset[categorical_columns] = data_subset[categorical_columns].astype(str)"
   ]
  },
  {
   "cell_type": "code",
   "execution_count": 25,
   "id": "ded804eb-2cbf-4f93-83d9-3558173becb4",
   "metadata": {},
   "outputs": [],
   "source": [
    "def get_data(file_location: str, file_type: str=\"parquet\"):\n",
    "    if file_type in [\"parquet\", \"csv\"]:\n",
    "        if file_type == \"parquet\":\n",
    "            data = pd.read_parquet(f\"{file_location}.{file_type}\")\n",
    "        elif file_type == \"csv\":\n",
    "            data = pd.read_csv(f\"{file_location}.{file_type}\", encoding='utf-8', sep=\",\")\n",
    "        return data\n",
    "    else:\n",
    "        raise NameError()\n",
    "    \n",
    "def get_datetime_features(data, date_column: str):\n",
    "    data = data.copy()\n",
    "    data[\"dt_day_of_week\"] = [date.weekday() for date in data[date_column]]\n",
    "    data[\"dt_hour_of_day\"] = data[date_column].dt.hour\n",
    "    data[\"dt_is_weekend\"] = [1 if day in [5,6] else 0 for day in data[\"dt_day_of_week\"]]\n",
    "    data[\"dt_is_night\"] = [1 if hr >= 18 or hr <= 5 else 0 for hr in data[\"dt_hour_of_day\"]]\n",
    "    return data\n",
    "\n",
    "\n",
    "def preprocess_data(data):\n",
    "    data = data.copy()\n",
    "    data.lpep_dropoff_datetime = pd.to_datetime(data.lpep_dropoff_datetime)\n",
    "    data.lpep_pickup_datetime = pd.to_datetime(data.lpep_pickup_datetime)\n",
    "    data[\"duration\"] = (data.lpep_dropoff_datetime - data.lpep_pickup_datetime)\n",
    "    data.duration = data.duration.apply(lambda d: d.seconds / 60)\n",
    "    \n",
    "    data_subset = data[(data.duration >= 1) & (data.duration <= 68)].copy()\n",
    "    data_subset[\"is_toll_taken\"] = (data_subset[\"tolls_amount\"] > 0).astype(int)\n",
    "    data_subset[\"is_trip_type_missing\"] = (data_subset[\"trip_type\"].isna()).astype(int)\n",
    "    data_subset[\"is_congested\"] = (data_subset[\"congestion_surcharge\"] > 0).astype(int)\n",
    "    data_subset[\"is_congestion_missing\"] = (data_subset[\"congestion_surcharge\"].isna()).astype(int)\n",
    "    data_subset[\"is_payment_type_missing\"] = (data_subset[\"payment_type\"].isna()).astype(int)\n",
    "    data_subset[\"congestion_surcharge\"] = data_subset[\"congestion_surcharge\"].fillna(0)\n",
    "    data_subset[\"PU_DO\"] = data_subset[\"PULocationID\"].astype(str) + '_' + data_subset[\"DOLocationID\"].astype(str)\n",
    "\n",
    "    data_subset = get_datetime_features(data_subset, \"lpep_pickup_datetime\")\n",
    "    \n",
    "    categorical_columns = [\"PU_DO\"]\n",
    "    numerical_columns = [\"trip_distance\",\n",
    "                     \"tolls_amount\",\n",
    "                     \"congestion_surcharge\",\n",
    "                     \"is_toll_taken\",\n",
    "                     \"is_congested\",\n",
    "                     \"is_trip_type_missing\",\n",
    "                     \"is_payment_type_missing\",\n",
    "                     \"is_congestion_missing\"]\n",
    "    date_feature_columns = [col for col in data_subset if col.split(\"_\")[0] == \"dt\"]\n",
    "    target = \"duration\"\n",
    "\n",
    "    preprocessed_data = data_subset[categorical_columns + numerical_columns + date_feature_columns + [target]]\n",
    "\n",
    "    return preprocessed_data"
   ]
  },
  {
   "cell_type": "code",
   "execution_count": 53,
   "id": "27aeb0d6-493a-45e9-9128-4d53647b9740",
   "metadata": {},
   "outputs": [],
   "source": [
    "data = get_data(file_location=\"../../../workspaces/data/green_tripdata_2021-01\", file_type=\"parquet\")\n",
    "val_data = get_data(file_location=\"../../../workspaces/data/green_tripdata_2021-02\")"
   ]
  },
  {
   "cell_type": "code",
   "execution_count": 54,
   "id": "eb7aa5b6-c67b-44cc-8a08-0c4d80bdfd9e",
   "metadata": {},
   "outputs": [],
   "source": [
    "preprocessed_data = preprocess_data(data)\n",
    "val_preprocessed_data = preprocess_data(val_data)"
   ]
  },
  {
   "cell_type": "code",
   "execution_count": 28,
   "id": "fc0c3e9f-9e17-47a6-8799-b202462748a9",
   "metadata": {},
   "outputs": [],
   "source": [
    "target = \"duration\""
   ]
  },
  {
   "cell_type": "code",
   "execution_count": 55,
   "id": "7feeb9f1-4788-4b2a-a473-fa5475e8848c",
   "metadata": {},
   "outputs": [],
   "source": [
    "X = preprocessed_data[[cols for cols in preprocessed_data if target != cols]].copy()\n",
    "y = preprocessed_data[target].copy()\n",
    "\n",
    "X_val = val_preprocessed_data[[cols for cols in val_preprocessed_data if target != cols]].copy()\n",
    "y_val = val_preprocessed_data[target].copy()"
   ]
  },
  {
   "cell_type": "code",
   "execution_count": 56,
   "id": "8032d872-0d67-450b-9c55-8e4b76c98aa4",
   "metadata": {},
   "outputs": [],
   "source": [
    "X_train_records = X.to_dict(orient=\"records\")\n",
    "X_val_records = X_val.to_dict(orient=\"records\")\n",
    "dv = DictVectorizer()\n",
    "X_train = dv.fit_transform(X_train_records)\n",
    "X_val = dv.transform(X_val_records)"
   ]
  },
  {
   "cell_type": "code",
   "execution_count": 40,
   "id": "53df6b15-c6ba-4637-a78c-51bf8e37c900",
   "metadata": {},
   "outputs": [],
   "source": [
    "model = RFR(n_jobs=4, random_state=42).fit(X_train,y)\n",
    "y_predict = model.predict(X_train)"
   ]
  },
  {
   "cell_type": "code",
   "execution_count": 57,
   "id": "c43cd9b5-7fe1-48b2-90f3-d4a353495338",
   "metadata": {},
   "outputs": [],
   "source": [
    "y_val_predict = model.predict(X_val)"
   ]
  },
  {
   "cell_type": "code",
   "execution_count": 59,
   "id": "7d031c57-5137-4be9-ad32-603758fdb1b8",
   "metadata": {},
   "outputs": [
    {
     "name": "stderr",
     "output_type": "stream",
     "text": [
      "/tmp/ipykernel_9374/394742614.py:1: UserWarning: \n",
      "\n",
      "`distplot` is a deprecated function and will be removed in seaborn v0.14.0.\n",
      "\n",
      "Please adapt your code to use either `displot` (a figure-level function with\n",
      "similar flexibility) or `histplot` (an axes-level function for histograms).\n",
      "\n",
      "For a guide to updating your code to use the new functions, please see\n",
      "https://gist.github.com/mwaskom/de44147ed2974457ad6372750bbe5751\n",
      "\n",
      "  sns.distplot(y, label=\"true\")\n",
      "/tmp/ipykernel_9374/394742614.py:2: UserWarning: \n",
      "\n",
      "`distplot` is a deprecated function and will be removed in seaborn v0.14.0.\n",
      "\n",
      "Please adapt your code to use either `displot` (a figure-level function with\n",
      "similar flexibility) or `histplot` (an axes-level function for histograms).\n",
      "\n",
      "For a guide to updating your code to use the new functions, please see\n",
      "https://gist.github.com/mwaskom/de44147ed2974457ad6372750bbe5751\n",
      "\n",
      "  sns.distplot(y_predict,label=\"predictions\")\n",
      "/tmp/ipykernel_9374/394742614.py:3: UserWarning: \n",
      "\n",
      "`distplot` is a deprecated function and will be removed in seaborn v0.14.0.\n",
      "\n",
      "Please adapt your code to use either `displot` (a figure-level function with\n",
      "similar flexibility) or `histplot` (an axes-level function for histograms).\n",
      "\n",
      "For a guide to updating your code to use the new functions, please see\n",
      "https://gist.github.com/mwaskom/de44147ed2974457ad6372750bbe5751\n",
      "\n",
      "  sns.distplot(y_val_predict, label=\"Validation Predictions\")\n"
     ]
    },
    {
     "data": {
      "text/plain": [
       "<matplotlib.legend.Legend at 0x74825ef6c110>"
      ]
     },
     "execution_count": 59,
     "metadata": {},
     "output_type": "execute_result"
    },
    {
     "data": {
      "image/png": "[encoded data removed]",
      "text/plain": [
       "<Figure size 640x480 with 1 Axes>"
      ]
     },
     "metadata": {},
     "output_type": "display_data"
    }
   ],
   "source": [
    "sns.distplot(y, label=\"true\")\n",
    "sns.distplot(y_predict,label=\"predictions\")\n",
    "sns.distplot(y_val_predict, label=\"Validation Predictions\")\n",
    "\n",
    "plt.legend()"
   ]
  },
  {
   "cell_type": "code",
   "execution_count": 60,
   "id": "977da4be-96eb-4122-8044-4ce51ee8f2d9",
   "metadata": {},
   "outputs": [],
   "source": [
    "from sklearn.metrics import mean_squared_error, root_mean_squared_error"
   ]
  },
  {
   "cell_type": "code",
   "execution_count": 48,
   "id": "e24b7628-333c-48ec-9507-6210ed550d0f",
   "metadata": {
    "collapsed": true,
    "jupyter": {
     "outputs_hidden": true
    }
   },
   "outputs": [
    {
     "data": {
      "text/plain": [
       "2.1300329534972517"
      ]
     },
     "execution_count": 48,
     "metadata": {},
     "output_type": "execute_result"
    }
   ],
   "source": [
    "train_rmse = root_mean_squared_error(y, y_predict)\n",
    "val_rmse = root_mean_squared_error(y_val, y_val_predict)\n",
    "print(f\"Train rmse: {train_rmse}, val rmse: {val_rmse}\")"
   ]
  }
 ],
 "metadata": {
  "kernelspec": {
   "display_name": "Python 3 (ipykernel)",
   "language": "python",
   "name": "python3"
  },
  "language_info": {
   "codemirror_mode": {
    "name": "ipython",
    "version": 3
   },
   "file_extension": ".py",
   "mimetype": "text/x-python",
   "name": "python",
   "nbconvert_exporter": "python",
   "pygments_lexer": "ipython3",
   "version": "3.12.3"
  }
 },
 "nbformat": 4,
 "nbformat_minor": 5
}
